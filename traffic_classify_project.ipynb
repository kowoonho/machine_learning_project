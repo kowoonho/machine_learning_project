{
  "nbformat": 4,
  "nbformat_minor": 0,
  "metadata": {
    "colab": {
      "name": "traffic classify_project.ipynb",
      "provenance": [],
      "collapsed_sections": [],
      "authorship_tag": "ABX9TyMRxD3qILWS21DUUzWbnYAQ",
      "include_colab_link": true
    },
    "kernelspec": {
      "name": "python3",
      "display_name": "Python 3"
    },
    "language_info": {
      "name": "python"
    },
    "accelerator": "GPU"
  },
  "cells": [
    {
      "cell_type": "markdown",
      "metadata": {
        "id": "view-in-github",
        "colab_type": "text"
      },
      "source": [
        "<a href=\"https://colab.research.google.com/github/kowoonho/machine_learning_project/blob/main/traffic_classify_project.ipynb\" target=\"_parent\"><img src=\"https://colab.research.google.com/assets/colab-badge.svg\" alt=\"Open In Colab\"/></a>"
      ]
    },
    {
      "cell_type": "code",
      "source": [
        "#교통 표지판 분류 프로젝트\n",
        "\n",
        "\n",
        "import os\n",
        "os.environ['KAGGLE_CONFIG_DIR'] = \"/content/gdrive/My Drive/kaggle_data/\""
      ],
      "metadata": {
        "id": "1SydilaRc-oo"
      },
      "execution_count": null,
      "outputs": []
    },
    {
      "cell_type": "code",
      "source": [
        "from google.colab import drive\n",
        "drive.mount('/content/gdrive')"
      ],
      "metadata": {
        "colab": {
          "base_uri": "https://localhost:8080/"
        },
        "id": "bcIUcs7eeGHa",
        "outputId": "6e131b1a-574c-43cb-a824-ee3005d1470d"
      },
      "execution_count": null,
      "outputs": [
        {
          "output_type": "stream",
          "name": "stdout",
          "text": [
            "Drive already mounted at /content/gdrive; to attempt to forcibly remount, call drive.mount(\"/content/gdrive\", force_remount=True).\n"
          ]
        }
      ]
    },
    {
      "cell_type": "code",
      "source": [
        "cd /content/gdrive/My Drive/kaggle_data"
      ],
      "metadata": {
        "colab": {
          "base_uri": "https://localhost:8080/"
        },
        "id": "LGIrTZ0CeXBP",
        "outputId": "0112e970-d4b0-4e91-9102-e708176c0600"
      },
      "execution_count": null,
      "outputs": [
        {
          "output_type": "stream",
          "name": "stdout",
          "text": [
            "/content/gdrive/My Drive/kaggle_data\n"
          ]
        }
      ]
    },
    {
      "cell_type": "code",
      "source": [
        "import pickle\n",
        "\n",
        "with open(\"/content/gdrive/My Drive/kaggle_data/data0.pickle\", \"rb\") as fr:\n",
        "  data = pickle.load(fr)"
      ],
      "metadata": {
        "id": "kZX0aQTQfnNn"
      },
      "execution_count": null,
      "outputs": []
    },
    {
      "cell_type": "code",
      "source": [
        "print(type(data))"
      ],
      "metadata": {
        "colab": {
          "base_uri": "https://localhost:8080/"
        },
        "id": "5Bc9dHruhuDJ",
        "outputId": "964ae492-61c6-4fd5-bcec-2c95100c360e"
      },
      "execution_count": null,
      "outputs": [
        {
          "output_type": "stream",
          "name": "stdout",
          "text": [
            "<class 'dict'>\n"
          ]
        }
      ]
    },
    {
      "cell_type": "code",
      "source": [
        "x_train = data['x_train'][:50000]/255.0\n",
        "y_train = data['y_train'][:50000]\n",
        "\n",
        "images_and_labels = list(zip(x_train, y_train))\n",
        "y_train.max()"
      ],
      "metadata": {
        "id": "1z8E7fueh2zr",
        "colab": {
          "base_uri": "https://localhost:8080/"
        },
        "outputId": "b03459e1-61e7-4b5b-abcc-0202f058df77"
      },
      "execution_count": null,
      "outputs": [
        {
          "output_type": "execute_result",
          "data": {
            "text/plain": [
              "42"
            ]
          },
          "metadata": {},
          "execution_count": 37
        }
      ]
    },
    {
      "cell_type": "code",
      "source": [
        "import torch\n",
        "import torch.nn as nn\n",
        "import torch.optim as optim\n",
        "\n",
        "device = 'cuda' if torch.cuda.is_available() else 'cpu'\n",
        "\n",
        "if device == 'cuda':\n",
        "  torch.cuda.manual_seed_all(1)\n"
      ],
      "metadata": {
        "id": "t2ihDquAC4de"
      },
      "execution_count": null,
      "outputs": []
    },
    {
      "cell_type": "code",
      "source": [
        "x_train = torch.as_tensor(x_train).float().to(device)\n",
        "y_train = torch.as_tensor(y_train).to(device)\n",
        "\n"
      ],
      "metadata": {
        "id": "gRr76E_KMGK6"
      },
      "execution_count": null,
      "outputs": []
    },
    {
      "cell_type": "code",
      "source": [
        "images_and_labels = list(zip(x_train, y_train))\n"
      ],
      "metadata": {
        "id": "EQpbGt4LQdaf"
      },
      "execution_count": null,
      "outputs": []
    },
    {
      "cell_type": "code",
      "source": [
        "data_loader = torch.utils.data.DataLoader(dataset=images_and_labels, batch_size=100, shuffle=True)"
      ],
      "metadata": {
        "id": "MFGz-_W-Xk8Z"
      },
      "execution_count": null,
      "outputs": []
    },
    {
      "cell_type": "code",
      "source": [
        "\n",
        "class CNN(nn.Module):\n",
        "  def __init__(self):\n",
        "    super(CNN, self).__init__()\n",
        "    self.layer1 = nn.Sequential(\n",
        "        nn.Conv2d(3, 32, 3, 1, 1),\n",
        "        nn.ReLU(),\n",
        "        nn.MaxPool2d(2,2)\n",
        "    )\n",
        "    self.layer2 = nn.Sequential(\n",
        "        nn.Conv2d(32, 64, 3, 1, 1),\n",
        "        nn.ReLU(),\n",
        "        nn.MaxPool2d(2,2)\n",
        "    )\n",
        "    self.layer3 = nn.Sequential(\n",
        "        nn.Conv2d(64, 128, 3, 1, 1),\n",
        "        nn.ReLU(),\n",
        "        nn.MaxPool2d(2,2)\n",
        "    )\n",
        "    self.fc1 = nn.Linear(128*4*4, 625, bias=True)\n",
        "    nn.init.xavier_uniform_(self.fc1.weight)\n",
        "    self.layer4 = nn.Sequential(\n",
        "        self.fc1,\n",
        "        nn.ReLU(),\n",
        "        nn.Dropout(0.5)\n",
        "    )\n",
        "    self.fc2 = nn.Linear(625, 43, bias = True)\n",
        "    nn.init.xavier_uniform_(self.fc2.weight)\n",
        "  \n",
        "  def forward(self, x):\n",
        "    out = self.layer1(x)\n",
        "    out = self.layer2(out)\n",
        "    out = self.layer3(out)\n",
        "    out = out.view(out.size(0), -1)\n",
        "    out = self.layer4(out)\n",
        "    out = self.fc2(out)\n",
        "    return out\n",
        "\n",
        "model = CNN().to(device)"
      ],
      "metadata": {
        "id": "rOZtpsavoEou"
      },
      "execution_count": null,
      "outputs": []
    },
    {
      "cell_type": "code",
      "source": [
        "criterion = nn.CrossEntropyLoss().to(device)\n",
        "optimizer = optim.Adam(model.parameters(), lr = 1e-3)\n"
      ],
      "metadata": {
        "id": "WHYVaAM8Q5cm"
      },
      "execution_count": null,
      "outputs": []
    },
    {
      "cell_type": "code",
      "source": [
        "total_batch = len(data_loader)\n",
        "print(total_batch)"
      ],
      "metadata": {
        "colab": {
          "base_uri": "https://localhost:8080/"
        },
        "id": "qlKXigB3RM9R",
        "outputId": "01888359-5825-44c5-b6c9-75f52bef42dc"
      },
      "execution_count": null,
      "outputs": [
        {
          "output_type": "stream",
          "name": "stdout",
          "text": [
            "500\n"
          ]
        }
      ]
    },
    {
      "cell_type": "code",
      "source": [
        "for epoch in range(10):\n",
        "  avg_cost = 0\n",
        "  for x, y in data_loader:\n",
        "    x = x.to(device)\n",
        "    y = y.to(device)\n",
        "    hypothesis = model(x)\n",
        "    y_one_hot = torch.zeros_like(hypothesis)\n",
        "    y_one_hot.scatter_(1, y.unsqueeze(1), 1)\n",
        "    optimizer.zero_grad()\n",
        "    cost = criterion(hypothesis, y_one_hot)\n",
        "    cost.backward()\n",
        "    optimizer.step()\n",
        "\n",
        "    avg_cost += cost / total_batch\n",
        "\n",
        "  \n",
        "  print(\"Epoch : {:2d} Cost : {:.6f}\".format(\n",
        "      epoch+1, cost.item()\n",
        "  ))\n",
        "\n",
        "    "
      ],
      "metadata": {
        "id": "gvOoSExKpPEo",
        "colab": {
          "base_uri": "https://localhost:8080/"
        },
        "outputId": "0298da56-0cae-483d-ae1a-e19cf712d829"
      },
      "execution_count": null,
      "outputs": [
        {
          "output_type": "stream",
          "name": "stdout",
          "text": [
            "Epoch :  1 Cost : 0.629131\n",
            "Epoch :  2 Cost : 0.184229\n",
            "Epoch :  3 Cost : 0.038964\n",
            "Epoch :  4 Cost : 0.094866\n",
            "Epoch :  5 Cost : 0.018898\n",
            "Epoch :  6 Cost : 0.042897\n",
            "Epoch :  7 Cost : 0.066277\n",
            "Epoch :  8 Cost : 0.043124\n",
            "Epoch :  9 Cost : 0.044282\n",
            "Epoch : 10 Cost : 0.015214\n"
          ]
        }
      ]
    },
    {
      "cell_type": "code",
      "source": [
        "print(data.keys())"
      ],
      "metadata": {
        "id": "NjuOGzl5OEew",
        "colab": {
          "base_uri": "https://localhost:8080/"
        },
        "outputId": "07e441c9-1574-405a-8714-717acb264f0d"
      },
      "execution_count": null,
      "outputs": [
        {
          "output_type": "stream",
          "name": "stdout",
          "text": [
            "dict_keys(['x_test', 'y_validation', 'x_validation', 'labels', 'x_train', 'y_test', 'y_train'])\n"
          ]
        }
      ]
    },
    {
      "cell_type": "code",
      "source": [
        "with torch.no_grad():\n",
        "  x_test = (torch.as_tensor(data['x_test']).float()/255.0).to(device)\n",
        "  y_test = torch.as_tensor(data['y_test']).to(device)\n",
        "\n",
        "  prediction = model(x_test)\n",
        "  correct_prediction = torch.argmax(prediction, 1) == y_test\n",
        "  accuracy = correct_prediction.float().mean()\n",
        "  print(\"Accuracy : \",accuracy.item())  \n"
      ],
      "metadata": {
        "colab": {
          "base_uri": "https://localhost:8080/"
        },
        "id": "P0kv3uX8ABRz",
        "outputId": "9c844d0a-8ce5-4201-d825-180ce1aca4aa"
      },
      "execution_count": null,
      "outputs": [
        {
          "output_type": "stream",
          "name": "stdout",
          "text": [
            "Accuracy :  0.895882785320282\n"
          ]
        }
      ]
    },
    {
      "cell_type": "code",
      "source": [
        ""
      ],
      "metadata": {
        "id": "WJNqpttRCxJX"
      },
      "execution_count": null,
      "outputs": []
    }
  ]
}